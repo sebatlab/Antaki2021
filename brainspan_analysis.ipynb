{
  "nbformat": 4,
  "nbformat_minor": 0,
  "metadata": {
    "colab": {
      "name": "brainspan_analysis.ipynb",
      "provenance": [],
      "collapsed_sections": [],
      "machine_shape": "hm",
      "authorship_tag": "ABX9TyNTOQ9Ke4wU4RGoGH+OjW8R",
      "include_colab_link": true
    },
    "kernelspec": {
      "name": "python3",
      "display_name": "Python 3"
    },
    "language_info": {
      "name": "python"
    }
  },
  "cells": [
    {
      "cell_type": "markdown",
      "metadata": {
        "id": "view-in-github",
        "colab_type": "text"
      },
      "source": [
        "<a href=\"https://colab.research.google.com/github/sebatlab/Antaki2021/blob/main/brainspan_analysis.ipynb\" target=\"_parent\"><img src=\"https://colab.research.google.com/assets/colab-badge.svg\" alt=\"Open In Colab\"/></a>"
      ]
    },
    {
      "cell_type": "code",
      "metadata": {
        "id": "ZzrtRXpIE4Ll"
      },
      "source": [
        "import pandas as pd\n",
        "import seaborn as sns\n",
        "import matplotlib.pyplot as plt\n",
        "from matplotlib.patches import Patch\n",
        "from matplotlib.patches import Polygon\n",
        "import scipy.stats\n",
        "import numpy as np\n",
        "import itertools\n",
        "plt.rcParams['svg.fonttype'] = 'none'"
      ],
      "execution_count": null,
      "outputs": []
    },
    {
      "cell_type": "code",
      "metadata": {
        "colab": {
          "base_uri": "https://localhost:8080/"
        },
        "id": "hmaYRUHfE8GY",
        "outputId": "371a3486-b7af-445f-a49d-1448e5f499ed"
      },
      "source": [
        "from google.colab import drive\n",
        "drive.mount('/content/drive')"
      ],
      "execution_count": null,
      "outputs": [
        {
          "output_type": "stream",
          "text": [
            "Drive already mounted at /content/drive; to attempt to forcibly remount, call drive.mount(\"/content/drive\", force_remount=True).\n"
          ],
          "name": "stdout"
        }
      ]
    },
    {
      "cell_type": "code",
      "metadata": {
        "id": "uqyFmsKTFJHU"
      },
      "source": [
        "# !ls \"/content/drive/My Drive/antaki2021_manuscript/brainspan/\"\n",
        "df = pd.read_csv(\"/content/drive/My Drive/antaki2021_manuscript/brainspan/full_brainspan_table_final_normalized.tsv.gz\", sep = '\\t')"
      ],
      "execution_count": null,
      "outputs": []
    },
    {
      "cell_type": "code",
      "metadata": {
        "id": "OxNZxTD-dYCO"
      },
      "source": [
        "not_cortex = [\n",
        "    'amygdaloid complex',\n",
        "    'cerebellum',\n",
        "    'hippocampus (hippocampal formation)',\n",
        "    'mediodorsal nucleus of thalamus',\n",
        "    'striatum',\n",
        "]\n",
        "\n",
        "# Omit regions NOT in cortex\n",
        "df = df[~df['structure_name'].isin(not_cortex)]"
      ],
      "execution_count": null,
      "outputs": []
    },
    {
      "cell_type": "code",
      "metadata": {
        "id": "xlMd5bbIFlkA"
      },
      "source": [
        "ta = pd.read_csv(\"/content/drive/My Drive/antaki2021_manuscript/brainspan/tada_input_and_results_JS.csv\")\n",
        "dnm_genes = list(ta[ta['trans_dnm_median'] <  1]['gene'])\n",
        "inh_genes = list(ta[ta['trans_dnm_median'] >= 1]['gene'])\n",
        "tada_genes = dnm_genes + inh_genes\n",
        "\n",
        "# This is the final list given to us by the authors\n",
        "gw = pd.read_csv(\"/content/drive/My Drive/antaki2021_manuscript/brainspan/grove_gwas_genes_ensid_final.tsv\", sep = '\\t')\n",
        "gwas_genes = list(set(gw['gene']))\n",
        "\n",
        "# Another final list given to us by authors (processed by MAGMA?)\n",
        "gwas_genes_new = pd.read_csv(\"/content/drive/My Drive/antaki2021_manuscript/brainspan/Disorder_associated_genes.csv\", header = None, names = [\"gene\"])\n",
        "magma_genes = list(set(gwas_genes_new[\"gene\"]))\n",
        "\n",
        "# Brainspan protein coding genes\n",
        "df_brainspan_protein_coding = pd.read_csv(\"/content/drive/My Drive/antaki2021_manuscript/brainspan/brainspan_genes.gencode.protein_coding.txt\",\n",
        "                                          sep = \"\\t\", header = None,\n",
        "                                          names = [\"chromosome_name\", \"feature_type\", \"genomic_start_location\", \"genomic_end_location\", \"gene_name_key\", \"gene\", \"gene_type_key\", \"gene_type\"])\n",
        "brainspan_protein_coding_genes = list(set(df_brainspan_protein_coding[\"gene\"]))"
      ],
      "execution_count": null,
      "outputs": []
    },
    {
      "cell_type": "code",
      "metadata": {
        "id": "-CdxxsIGHY1p"
      },
      "source": [
        "# Omit genes NOT in [dnm_genes, inh_genes, gwas_genes]?\n",
        "# df = df[df['gene'].isin(dnm_genes + inh_genes + gwas_genes)]\n",
        "# df = df[df['gene'].isin(tada_genes + gwas_genes)] # Should be same as previous line\n",
        "df = df[df['gene'].isin(tada_genes + magma_genes + brainspan_protein_coding_genes)]\n",
        "\n",
        "\n",
        "def convert_to_weeks(date_string):\n",
        "    value, sfx = date_string.split(' ') \n",
        "    if sfx == 'pcw':\n",
        "        value = float(value)\n",
        "    if sfx == 'mos':\n",
        "        value = (int(value)*4)+40.\n",
        "    if sfx == 'yrs':\n",
        "        value = (int(value)*52.)+40.\n",
        "    return value\n",
        "\n",
        "df['weeks'] = df['age'].apply(convert_to_weeks)"
      ],
      "execution_count": null,
      "outputs": []
    },
    {
      "cell_type": "code",
      "metadata": {
        "colab": {
          "base_uri": "https://localhost:8080/",
          "height": 351
        },
        "id": "U5z1BStLFhva",
        "outputId": "8a9441ef-a8bb-48f6-c538-ae612d4c2746"
      },
      "source": [
        "# gnomAD constraint scores (oe_lof_upper)\n",
        "df_oe_lof_upper = pd.read_csv(\"/content/drive/My Drive/antaki2021_manuscript/brainspan/gene.oe_lof_upper.txt\", sep =\"\\t\").dropna()\n",
        "df_oe_lof_upper[\"constrained\"] = df_oe_lof_upper[\"oe_lof_upper\"] < 0.37\n",
        "\n",
        "df_merge = df.merge(df_oe_lof_upper, how = \"left\", on = [\"gene\"])\n",
        "df_merge = df_merge.dropna(subset = ['constrained'])\n",
        "\n",
        "# Plotting\n",
        "expr = [\n",
        "    df_merge[df_merge['constrained'] == True]['norm'],\n",
        "    df_merge[df_merge['constrained'] == False]['norm'],\n",
        "]\n",
        "\n",
        "f, ax = plt.subplots(1, 1)\n",
        "bp = ax.boxplot(\n",
        "    expr,\n",
        "    showfliers = False,\n",
        ")\n",
        "num_boxes = 2\n",
        "\n",
        "ax.set(\n",
        "    xlabel = '',\n",
        "    ylabel = 'Normalized Expression',\n",
        "    xticks = [x for x in range(1, num_boxes + 1)],\n",
        "    xticklabels = [\n",
        "        f'LOEUF < 0.37 Genes  N={len(set(df_merge[df_merge[\"constrained\"] == True][\"gene\"]))}',\n",
        "        f'LOEUF > 0.37 Genes N={len(set(df_merge[df_merge[\"constrained\"] == False][\"gene\"]))}', \n",
        "    ],\n",
        "   # ylim=(-.31, .31)\n",
        ")\n",
        "\n",
        "box_colors = ['mediumaquamarine', 'bisque']\n",
        "# Change the face color\n",
        "for i in range(num_boxes):\n",
        "    box = bp['boxes'][i]\n",
        "    box_x = []\n",
        "    box_y = []\n",
        "    for j in range(5):\n",
        "        box_x.append(box.get_xdata()[j])\n",
        "        box_y.append(box.get_ydata()[j])\n",
        "    box_coords = np.column_stack([box_x, box_y])\n",
        "    ax.add_patch(Polygon(box_coords, facecolor=box_colors[0]))\n",
        "\n",
        "def add_sig_lines(ax, x1, x2, y, h, pv):\n",
        "    ax.plot([x1, x1, x2, x2], [y, y + h, y + h, y], lw = 1, c = 'k')\n",
        "    ax.text(s = 'P={:.2e}'.format(pv), x = x1 + .5, y = y + h + (h/2) + 0.3, ha = 'center', va = 'center',)\n",
        "\n",
        "xmin, xmax = ax.set_xlim()\n",
        "ax.hlines(xmin = xmin, xmax = xmax, y = 1, color = 'k', linestyle = ':')\n",
        "caps = [x.get_ydata()[1] for i,x in enumerate(bp['whiskers']) if (i % 2) == 1]\n",
        "for x,y in list(itertools.combinations([0, 1], 2)):\n",
        "    #import pdb; pdb.set_trace()\n",
        "    pval = scipy.stats.ttest_ind(expr[x], expr[y])[1]\n",
        "    buff = 0\n",
        "    if (x == 0) and (y == 2):\n",
        "        buff += 0.1\n",
        "    add_sig_lines(ax, x + 1, y + 1, max(caps[x], caps[y]) + 0.1 + buff, 0.1, pval)\n",
        "\n",
        "f.tight_layout()\n",
        "f.savefig('brainspan_gnomad.png')\n",
        "f.savefig('brainspan_gnomad.svg')\n"
      ],
      "execution_count": null,
      "outputs": [
        {
          "output_type": "stream",
          "text": [
            "/usr/local/lib/python3.7/dist-packages/numpy/core/_asarray.py:83: VisibleDeprecationWarning: Creating an ndarray from ragged nested sequences (which is a list-or-tuple of lists-or-tuples-or ndarrays with different lengths or shapes) is deprecated. If you meant to do this, you must specify 'dtype=object' when creating the ndarray\n",
            "  return array(a, dtype, copy=False, order=order)\n"
          ],
          "name": "stderr"
        },
        {
          "output_type": "display_data",
          "data": {
            "image/png": "[encoded data removed]",
            "text/plain": [
              "<Figure size 432x288 with 1 Axes>"
            ]
          },
          "metadata": {
            "needs_background": "light"
          }
        }
      ]
    },
    {
      "cell_type": "code",
      "metadata": {
        "colab": {
          "base_uri": "https://localhost:8080/",
          "height": 297
        },
        "id": "MR35eMPMHk5K",
        "outputId": "f954e079-a71d-471a-e3ba-2677914b678a"
      },
      "source": [
        "# Run t-test comparisons\n",
        "# tada_gwas_ttest = scipy.stats.ttest_ind(df[(df[\"gene\"].isin(tada_genes))][\"norm\"], df[(df[\"gene\"].isin(gwas_genes))][\"norm\"])\n",
        "# tada_magma_ttest = scipy.stats.ttest_ind(df[(df[\"gene\"].isin(tada_genes))][\"norm\"], df[(df[\"gene\"].isin(magma_genes))][\"norm\"])\n",
        "# magma_brainspan_ttest = scipy.stats.ttest_ind(df[(df[\"gene\"].isin(magma_genes))][\"norm\"], df[(df[\"gene\"].isin(brainspan_protein_coding_genes))][\"norm\"])\n",
        "\n",
        "# Run t-tests\n",
        "# dnm_ttest  = scipy.stats.ttest_1samp(df[(df[\"gene\"].isin(dnm_genes))][\"norm\"], 0.)\n",
        "# inh_ttest  = scipy.stats.ttest_1samp(df[(df[\"gene\"].isin(inh_genes))][\"norm\"], 0.)\n",
        "\n",
        "# tada_ttest = scipy.stats.ttest_1samp(df[(df[\"gene\"].isin(tada_genes))][\"norm\"], 0.)\n",
        "# gwas_ttest = scipy.stats.ttest_1samp(df[(df[\"gene\"].isin(gwas_genes))][\"norm\"], 0.)\n",
        "# magma_ttest = scipy.stats.ttest_1samp(df[(df[\"gene\"].isin(magma_genes))][\"norm\"], 0.)\n",
        "\n",
        "\n",
        "# Get the normalized expressions for each type\n",
        "# df_dnm_expression  = pd.DataFrame(df[(df[\"gene\"].isin(dnm_genes))][\"norm\"]).rename(columns = {\"norm\": \"normalized_expression\"})\n",
        "# df_dnm_expression[\"label\"] = \"dnm\"\n",
        "# df_inh_expression  = pd.DataFrame(df[(df[\"gene\"].isin(inh_genes))][\"norm\"]).rename(columns = {\"norm\": \"normalized_expression\"})\n",
        "# df_inh_expression[\"label\"] = \"inh\"\n",
        "\n",
        "df_tada_expression  = pd.DataFrame(df[(df[\"gene\"].isin(tada_genes))][\"norm\"]).rename(columns = {\"norm\": \"normalized_expression\"})\n",
        "df_tada_expression[\"label\"] = \"tada\"\n",
        "\n",
        "# df_gwas_expression = pd.DataFrame(df[(df[\"gene\"].isin(gwas_genes))][\"norm\"]).rename(columns = {\"norm\": \"normalized_expression\"})\n",
        "# df_gwas_expression[\"label\"] = \"prs\"\n",
        "\n",
        "df_gwas_expression = pd.DataFrame(df[(df[\"gene\"].isin(magma_genes))][\"norm\"]).rename(columns = {\"norm\": \"normalized_expression\"})\n",
        "df_gwas_expression[\"label\"] = \"magma\"\n",
        "\n",
        "df_brainspan_protein_coding_expression = pd.DataFrame(df[(df[\"gene\"].isin(brainspan_protein_coding_genes))][\"norm\"]).rename(columns = {\"norm\": \"normalized_expression\"})\n",
        "df_brainspan_protein_coding_expression[\"label\"] = \"brainspan_cortex_protein_coding\"\n",
        "\n",
        "# Concatenate expressions\n",
        "# df_expressions = pd.concat([df_dnm_expression, df_inh_expression, df_gwas_expression]).reset_index(drop = True)\n",
        "# df_expressions = pd.concat([df_tada_expression, df_gwas_expression, df_brainspan_protein_coding_expression]).reset_index(drop = True)\n",
        "df_expressions = pd.concat([df_brainspan_protein_coding_expression, df_gwas_expression, df_tada_expression]).reset_index(drop = True)\n",
        "\n",
        "# Gene counts per label\n",
        "num_tada_genes = len(df[(df[\"gene\"].isin(tada_genes))][\"gene\"].unique())\n",
        "num_magma_genes = len(df[(df[\"gene\"].isin(magma_genes))][\"gene\"].unique())\n",
        "num_brainspan_genes = len(df[(df[\"gene\"].isin(brainspan_protein_coding_genes))][\"gene\"].unique())\n",
        "num_brainspan_genes_rs = len(df[(df[\"gene\"].isin(brainspan_protein_coding_genes_random_sample))][\"gene\"].unique())\n",
        "\n",
        "\n",
        "# Plotting figure 1_brainspan\n",
        "\"\"\"Genes across all time points\"\"\"\n",
        "f, ax = plt.subplots()\n",
        "sns.violinplot(\n",
        "    data = df_expressions,\n",
        "    x = 'label',\n",
        "    y = 'normalized_expression',\n",
        "    palette = ['#f2f2f2', '#21ff85', '#fc68ea'],\n",
        "    ax = ax,\n",
        "    scale = 'width',\n",
        ")\n",
        "\n",
        "xmin, xmax = ax.set_xlim()\n",
        "ax.hlines(y = 1, xmin = xmin, xmax = xmax, linestyles = ':', color = 'k')\n",
        "ax.set(\n",
        "    xlabel = '',\n",
        "    ylabel = 'Normalized expression',\n",
        "    # xticklabels = ['De Novo Genes', 'Rare Inherited Genes', 'Polygenic Genes']\n",
        "    xticklabels = ['All Genes N = {}'.format(num_brainspan_genes), 'GWAS Genes N = {}'.format(num_magma_genes), 'TADA Genes N = {}'.format(num_tada_genes)]\n",
        "\n",
        ")\n",
        "f.tight_layout()\n",
        "f.savefig('fig7a.svg')\n",
        "\n",
        "\n",
        "\n",
        "\n",
        "# Boxplot (and alternate violin plot) version\n",
        "# f, ax = plt.subplots()\n",
        "# norm_expressions = np.array(\n",
        "#     [df_expressions[df_expressions[\"label\"] == \"brainspan_cortex_protein_coding\"][\"normalized_expression\"],\n",
        "#      df_expressions[df_expressions[\"label\"] == \"magma\"][\"normalized_expression\"],\n",
        "#      df_expressions[df_expressions[\"label\"] == \"tada\"][\"normalized_expression\"]],\n",
        "#     dtype=object,\n",
        "# )\n",
        "\n",
        "# f, ax = plt.subplots()\n",
        "# vp = ax.violinplot(\n",
        "#     norm_expressions,\n",
        "# )\n",
        "\n",
        "\n",
        "# bp = ax.boxplot(\n",
        "#     norm_expressions,\n",
        "# )\n",
        "\n",
        "# num_boxes = 3\n",
        "# ax.set(\n",
        "#     axisbelow = True,  # Hide the grid behind plot objects\n",
        "#     xlabel = '',\n",
        "#     ylabel = 'Normalized Expression',\n",
        "#     xticks = [x for x in range(1, num_boxes + 1)],\n",
        "#     xticklabels = [\"All Genes\", \"GWAS Genes\", \"TADA Genes\"],\n",
        "# )\n",
        "\n",
        "# box_colors = ['grey', 'cyan', 'mediumseagreen', ]\n",
        "# # Change the face color\n",
        "# for i in range(num_boxes):\n",
        "#     box = bp['boxes'][i]\n",
        "#     box_x = []\n",
        "#     box_y = []\n",
        "#     for j in range(5):\n",
        "#         box_x.append(box.get_xdata()[j])\n",
        "#         box_y.append(box.get_ydata()[j])\n",
        "#     box_coords = np.column_stack([box_x, box_y])\n",
        "#     ax.add_patch(Polygon(box_coords, facecolor=box_colors[i]))\n",
        "# xmin, xmax = ax.set_xlim()\n",
        "# ax.hlines(xmin = xmin, xmax = xmax, y = 0, color = 'k', linestyle = ':')\n",
        "\n",
        "# f.tight_layout()\n",
        "# f.savefig('fig7a.boxplot.svg')"
      ],
      "execution_count": null,
      "outputs": [
        {
          "output_type": "display_data",
          "data": {
            "image/png": "[encoded data removed]",
            "text/plain": [
              "<Figure size 432x288 with 1 Axes>"
            ]
          },
          "metadata": {
            "needs_background": "light"
          }
        }
      ]
    },
    {
      "cell_type": "code",
      "metadata": {
        "colab": {
          "base_uri": "https://localhost:8080/",
          "height": 297
        },
        "id": "wlnMjWn9Mbxx",
        "outputId": "b83ff94c-d51f-48ff-f441-1248c80a3b7c"
      },
      "source": [
        "\"\"\"\n",
        "Taking the ratio of prenatal:postnatal gene expression\n",
        "\n",
        "Here I calculate the mean gene expression grouping by prenatal boolean and the gene, \n",
        "then take the log10 of the ratio.\n",
        "\n",
        "  i.e. (True, Gene1):Mean Expression  / (False, Gene1):Mean Expression\n",
        "\"\"\"\n",
        "\n",
        "df_mean_expressions = df.groupby([\"prenatal\", \"gene\"])[\"norm\"].agg([\"mean\"]).reset_index()\n",
        "\n",
        "df_prenatal  = df_mean_expressions[df_mean_expressions['prenatal'] == True]\n",
        "df_postnatal = df_mean_expressions[df_mean_expressions['prenatal'] == False]\n",
        "\n",
        "df_intersection = df_prenatal.merge(df_postnatal, on = \"gene\", how = \"inner\")\n",
        "\n",
        "# Here square both the prenatal and postnatal expression to avoid negative numbers\n",
        "df_intersection['mean_ratio'] = np.log10((df_intersection['mean_x']**2) / (df_intersection['mean_y']**2))\n",
        "\n",
        "# Run 1-sample t-tests\n",
        "dnm_ttest  = scipy.stats.ttest_1samp(df_intersection[(df_intersection[\"gene\"].isin(dnm_genes))][\"mean_ratio\"], 0.)\n",
        "inh_ttest  = scipy.stats.ttest_1samp(df_intersection[(df_intersection[\"gene\"].isin(inh_genes))][\"mean_ratio\"], 0.)\n",
        "gwas_ttest = scipy.stats.ttest_1samp(df_intersection[(df_intersection[\"gene\"].isin(gwas_genes))][\"mean_ratio\"], 0.)\n",
        "\n",
        "# Get the mean ratios for each type\n",
        "df_dnm_mean_ratio  = pd.DataFrame(df_intersection[(df_intersection[\"gene\"].isin(dnm_genes))][\"mean_ratio\"])\n",
        "df_dnm_mean_ratio[\"label\"] = \"dnm\"\n",
        "df_inh_mean_ratio  = pd.DataFrame(df_intersection[(df_intersection[\"gene\"].isin(inh_genes))][\"mean_ratio\"])\n",
        "df_inh_mean_ratio[\"label\"] = \"inh\"\n",
        "df_gwas_mean_ratio  = pd.DataFrame(df_intersection[(df_intersection[\"gene\"].isin(gwas_genes))][\"mean_ratio\"])\n",
        "df_gwas_mean_ratio[\"label\"] = \"gwas\"\n",
        "\n",
        "# Concatenate mean ratios\n",
        "df_mean_ratios = pd.concat([df_dnm_mean_ratio, df_inh_mean_ratio, df_gwas_mean_ratio]).reset_index(drop = True)\n",
        "\n",
        "# Plotting\n",
        "mean_ratios = np.array(\n",
        "    [df_mean_ratios[df_mean_ratios[\"label\"] == \"dnm\"][\"mean_ratio\"],\n",
        "     df_mean_ratios[df_mean_ratios[\"label\"] == \"inh\"][\"mean_ratio\"],\n",
        "     df_mean_ratios[df_mean_ratios[\"label\"] == \"gwas\"][\"mean_ratio\"]],\n",
        "    dtype=object,\n",
        ")\n",
        "\n",
        "\n",
        "f, ax = plt.subplots(1, 1)\n",
        "bp = ax.boxplot(\n",
        "    mean_ratios,\n",
        "    showfliers = False,\n",
        ")\n",
        "\n",
        "num_boxes = 3\n",
        "ax.set(\n",
        "    axisbelow = True,  # Hide the grid behind plot objects\n",
        "    xlabel = '',\n",
        "    ylabel = 'Normalized Expression',\n",
        "    xticks = [x for x in range(1, num_boxes + 1)],\n",
        "    xticklabels = [\n",
        "        f'DNM Genes  N={len(set(df_intersection[df_intersection[\"gene\"].isin(dnm_genes)][\"gene\"]))}',\n",
        "        f'Inherited Genes N={len(set(df_intersection[df_intersection[\"gene\"].isin(inh_genes)][\"gene\"]))}', \n",
        "        f'Polygenic Genes N={len(set(df_intersection[df_intersection[\"gene\"].isin(gwas_genes)][\"gene\"]))}'\n",
        "    ],\n",
        "   ylim = (-.21, .35)\n",
        ")\n",
        "\n",
        "box_colors = ['mediumaquamarine', 'bisque']\n",
        "# Change the face color\n",
        "for i in range(num_boxes):\n",
        "    box = bp['boxes'][i]\n",
        "    box_x = []\n",
        "    box_y = []\n",
        "    for j in range(5):\n",
        "        box_x.append(box.get_xdata()[j])\n",
        "        box_y.append(box.get_ydata()[j])\n",
        "    box_coords = np.column_stack([box_x, box_y])\n",
        "    ax.add_patch(Polygon(box_coords, facecolor=box_colors[0]))\n",
        "xmin, xmax = ax.set_xlim()\n",
        "ax.hlines(xmin = xmin, xmax = xmax, y = 0, color = 'k', linestyle = ':')\n",
        "caps = [x.get_ydata()[1] for i,x in enumerate(bp['whiskers']) if (i % 2) == 1]\n",
        "\n",
        "\n",
        "def add_sig_lines(ax, x1, x2, y, h, pv):\n",
        "    # Function to add the line between two groups and the p-value\n",
        "    ax.plot([x1, x1, x2, x2], [y, y + h, y + h, y], lw = 1, c = 'k')\n",
        "    ax.text(s = 'P={:.2e}'.format(pv), x = x1 + .5, y = y + h + (h/2), ha = 'center', va = 'center',)\n",
        "\n",
        "\"\"\"\n",
        "Right here is how to do the pairwise t-test\n",
        "\"\"\"\n",
        "for x,y in list(itertools.combinations([0, 1, 2], 2)):\n",
        "    # import pdb; pdb.set_trace()\n",
        "    # ^ debugging sanity checks, basically this combination will test 0 vs 1, 0 vs 2, and 1 vs 2\n",
        "    \n",
        "    pval = scipy.stats.ttest_ind(mean_ratios[x], mean_ratios[y])[1]\n",
        "    # Remember expr[0] = de novo, expr[1] = inherited, and expr[2] = polygenic\n",
        "    buff = 0\n",
        "    if (x == 0) and (y == 2):\n",
        "        buff += 0.03\n",
        "    add_sig_lines(ax, x + 1, y + 1, max(caps[x], caps[y]) + 0.01 + buff, 0.03, pval)\n",
        "\n",
        "f.tight_layout()\n",
        "f.savefig('brainspan_gene_sets_ratio.png')\n",
        "f.savefig('brainspan_gene_sets_ratio.svg')"
      ],
      "execution_count": null,
      "outputs": [
        {
          "output_type": "display_data",
          "data": {
            "image/png": "[encoded data removed]",
            "text/plain": [
              "<Figure size 432x288 with 1 Axes>"
            ]
          },
          "metadata": {
            "needs_background": "light"
          }
        }
      ]
    },
    {
      "cell_type": "code",
      "metadata": {
        "id": "jA0WNb4rXBZf"
      },
      "source": [
        "def lowess(df, f = 1./3.):\n",
        "    # import pdb; pdb.set_trace()\n",
        "    \"\"\"\n",
        "    Basic LOWESS smoother with uncertainty. \n",
        "    Note:\n",
        "        - Not robust (so no iteration) and\n",
        "             only normally distributed errors. \n",
        "        - No higher order polynomials d = 1 \n",
        "            so linear smoother.\n",
        "    \"\"\"\n",
        "    x = np.array(df['weeks'])\n",
        "    y = np.array(df['norm_gene'])\n",
        "    # Get some paras\n",
        "    xwidth = f*(x.max() - x.min()) # Effective width after reduction factor\n",
        "    N = len(x) # Number of observations\n",
        "    # Don't assume the data is sorted\n",
        "    order = np.argsort(x)\n",
        "    # Storage\n",
        "    y_sm = np.zeros_like(y)\n",
        "    y_stderr = np.zeros_like(y)\n",
        "    # Define the weighting function -- clipping too!\n",
        "    # tricube = lambda d : np.clip((1 - np.abs(d)**3)**3, 0, 1)\n",
        "    tricube = lambda d : np.clip((1 - np.abs(d)*np.abs(d)*np.abs(d))*(1 - np.abs(d)*np.abs(d)*np.abs(d))*(1 - np.abs(d)*np.abs(d)*np.abs(d)), 0, 1)\n",
        "    # Run the regression for each observation i\n",
        "\n",
        "    A = np.zeros((df.shape[0], 2))\n",
        "    w = np.zeros((df.shape[0],))\n",
        "\n",
        "    for i in range(N):\n",
        "        dist = np.abs((x[order][i] - x[order]))/xwidth\n",
        "        w = tricube(dist)\n",
        "        # Form linear system with the weights\n",
        "        A = np.stack([w, x[order]*w]).T\n",
        "        b = w * y[order]\n",
        "        ATA = A.T.dot(A)\n",
        "        ATb = A.T.dot(b)\n",
        "        # Solve the system\n",
        "        sol = np.linalg.solve(ATA, ATb)\n",
        "        # Predict for the observation only\n",
        "        yest = A[i].dot(sol) # Equivalent of A.dot(yest) just for k\n",
        "        place = order[i]\n",
        "        y_sm[place] = yest \n",
        "        # sigma2 = (np.sum((A.dot(sol) - y[order])**2)/N)\n",
        "        sigma2 = (np.sum((A.dot(sol) - y[order])*(A.dot(sol) - y[order]))/N)\n",
        "        # Calculate the standard error\n",
        "        y_stderr[place] = np.sqrt(sigma2 * \n",
        "                                A[i].dot(np.linalg.inv(ATA)\n",
        "                                                    ).dot(A[i]))\n",
        "    df['norm_lowess'] = y_sm\n",
        "    df['norm_lowess_stderr'] = y_stderr\n",
        "    return df.copy()\n",
        "     \n",
        "def scale(y, c = True, sc = False):\n",
        "    x = y.copy()\n",
        "\n",
        "    if c:\n",
        "        x -= x.mean()\n",
        "    if sc and c:\n",
        "        x /= x.std()\n",
        "    elif sc:\n",
        "        x /= np.sqrt(x.pow(2).sum().div(x.count() - 1))\n",
        "    return x\n",
        "\n",
        "# Scale by gene (row)\n",
        "df['norm_gene'] = df.groupby(['gene'])['norm'].apply(scale)\n",
        "# Adding one because that's how we scaled sample-wise (column)\n",
        "df['norm_gene'] += 1\n",
        "\n"
      ],
      "execution_count": null,
      "outputs": []
    },
    {
      "cell_type": "code",
      "metadata": {
        "id": "9Li4lKL-njfe"
      },
      "source": [
        "# import random\n",
        "# # Sample 1000 genes (w/o replacement) from brainspan\n",
        "# random.seed(0)\n",
        "# brainspan_protein_coding_genes_random_sample = random.sample(brainspan_protein_coding_genes, 1000)"
      ],
      "execution_count": null,
      "outputs": []
    },
    {
      "cell_type": "code",
      "metadata": {
        "id": "W1qghAxLmjPH"
      },
      "source": [
        "with open(\"/content/drive/My Drive/antaki2021_manuscript/brainspan/brainspan_cortex_protein_coding.1000_random_sample.seed_0.txt\") as f:\n",
        "    brainspan_protein_coding_genes_random_sample = f.read().splitlines()\n",
        "\n",
        "# For testing\n",
        "# brainspan_protein_coding_genes_random_sample = brainspan_protein_coding_genes_random_sample[0:50]"
      ],
      "execution_count": null,
      "outputs": []
    },
    {
      "cell_type": "code",
      "metadata": {
        "id": "db83s39Pmhkl"
      },
      "source": [
        "# dnm_df = df[df['gene'].isin(dnm_genes)].copy()\n",
        "# inh_df = df[df['gene'].isin(inh_genes)].copy()\n",
        "\n",
        "tada_df = df[df['gene'].isin(tada_genes)].copy()\n",
        "\n",
        "# gwas_df = df[df['gene'].isin(gwas_genes)].copy()\n",
        "\n",
        "magma_df = df[df['gene'].isin(magma_genes)].copy()\n",
        "\n",
        "# brainspan_df = df[df['gene'].isin(brainspan_protein_coding_genes)].copy()\n",
        "\n",
        "brainspan_sample_df = df[df['gene'].isin(brainspan_protein_coding_genes_random_sample)].copy()"
      ],
      "execution_count": null,
      "outputs": []
    },
    {
      "cell_type": "code",
      "metadata": {
        "colab": {
          "base_uri": "https://localhost:8080/"
        },
        "id": "xHtiacOtpKex",
        "outputId": "cf4f3265-932f-4fe9-bd10-97e0d0af33ee"
      },
      "source": [
        "# Profiling LOWESS smoother\n",
        "# !pip install line_profiler\n",
        "%load_ext line_profiler\n",
        "%lprun -f lowess lowess(brainspan_sample_df)\n",
        "\n",
        "# Debugging\n",
        "\n",
        "# %debug \n",
        "# brainspan_sample_df = lowess(brainspan_sample_df)"
      ],
      "execution_count": null,
      "outputs": [
        {
          "output_type": "stream",
          "text": [
            "The line_profiler extension is already loaded. To reload it, use:\n",
            "  %reload_ext line_profiler\n"
          ],
          "name": "stdout"
        }
      ]
    },
    {
      "cell_type": "code",
      "metadata": {
        "id": "oOlXEoUnZYkE",
        "colab": {
          "base_uri": "https://localhost:8080/",
          "height": 297
        },
        "outputId": "6f7ed473-fdb9-4a81-8ef3-772f894d20ef"
      },
      "source": [
        "# # This takes a while to run on my shitty laptop \n",
        "# # dnm_df = lowess(dnm_df)\n",
        "# # inh_df = lowess(inh_df)\n",
        "# # Run this:\n",
        "# tada_df = lowess(tada_df)\n",
        "# # gwas_df = lowess(gwas_df)\n",
        "# # Run this:\n",
        "# magma_df = lowess(magma_df)\n",
        "# # brainspan_df = lowess(brainspan_df)\n",
        "# # Run this\n",
        "# brainspan_sample_df = lowess(brainspan_sample_df)\n",
        "\n",
        "\n",
        "\n",
        "### Plotting\n",
        "def plot_lowess(df, ax, color, label, zorder):\n",
        "    xpos = {x:i for i,x in enumerate(sorted( set(df['weeks'])))}\n",
        "    xrev = {i:x for i,x in enumerate(sorted( set(df['weeks'])))}\n",
        "    xlabs = dict(zip(df['weeks'], df['age']))\n",
        "    \n",
        "    df['xpos'] = df['weeks'].map(xlabs)\n",
        "    sns.lineplot(\n",
        "        data = df,\n",
        "        x = 'xpos',\n",
        "        y = 'norm_lowess',\n",
        "        ax = ax,\n",
        "        label = label,\n",
        "        color = color,\n",
        "        zorder = zorder,\n",
        "    )\n",
        "    ax.fill_between(\n",
        "        df['xpos'],\n",
        "        df['norm_lowess'] - 1.96*df['norm_lowess_stderr'],\n",
        "        df['norm_lowess'] + 1.96*df['norm_lowess_stderr'],\n",
        "        alpha = 0.3,\n",
        "        color = color,\n",
        "        zorder = zorder,\n",
        "    )\n",
        "    xticks = [x for x in range(0, 35, 5)]\n",
        "    xticklabels = [ xlabs[xrev[x]] for x in xticks]\n",
        "    ax.set_xticks(xticks)\n",
        "    ax.set_xticklabels(xticklabels)\n",
        "    return ax\n",
        "\n",
        "# sns.set_style(\"whitegrid\")\n",
        "f, ax = plt.subplots(1,1)\n",
        "\n",
        "# All Genes, GWAS Genes, TADA Genes\n",
        "# palette = ['grey', 'cyan', 'mediumseagreen']\n",
        "\n",
        "# ax = plot_lowess(dnm_df, ax, 'mediumaquamarine', 'DNM Genes', 30)\n",
        "# ax = plot_lowess(inh_df, ax, 'coral', 'Inherited Genes', 29)\n",
        "ax = plot_lowess(tada_df, ax, '#fc68ea', 'TADA Genes N = {}'.format(num_tada_genes), 29)\n",
        "ax = plot_lowess(magma_df, ax, '#21ff85', 'GWAS Genes N = {}'.format(num_magma_genes), 28)\n",
        "ax = plot_lowess(brainspan_sample_df, ax, 'grey', 'Random Genes N = {}'.format(num_brainspan_genes_rs), 27)\n",
        "\n",
        "ymin, ymax = ax.set_ylim()\n",
        "\n",
        "ax.vlines(x = 12.5, ymin = ymin, ymax = ymax, color = 'k', linestyle = ':')\n",
        "ax.set_xlabel('')\n",
        "ax.set_ylabel('Normalized expression')\n",
        "f.tight_layout()\n",
        "f.savefig('lowess_expression.png')\n",
        "f.savefig('lowess_expression.svg')\n",
        "f.savefig('lowess_expression.pdf')"
      ],
      "execution_count": null,
      "outputs": [
        {
          "output_type": "display_data",
          "data": {
            "image/png": "[encoded data removed]",
            "text/plain": [
              "<Figure size 432x288 with 1 Axes>"
            ]
          },
          "metadata": {
            "needs_background": "light"
          }
        }
      ]
    },
    {
      "cell_type": "code",
      "metadata": {
        "id": "M9tKQ2W-W6Vn"
      },
      "source": [
        "# brainspan_sample_df.to_csv(\"brainspan_sample_df.csv\", index = False)\n",
        "magma_df.to_csv(\"magma_df.csv\", index = False)\n",
        "tada_df.to_csv(\"tada_df.csv\", index = False)\n"
      ],
      "execution_count": null,
      "outputs": []
    },
    {
      "cell_type": "code",
      "metadata": {
        "colab": {
          "base_uri": "https://localhost:8080/",
          "height": 637
        },
        "id": "12x84VWbc8Jz",
        "outputId": "3f28b92f-1e1e-4890-a701-2cdd7f8f4f07"
      },
      "source": [
        "def plot_lowess(df, ax, color, label, zorder):\n",
        "    xpos = {x:i for i,x in enumerate(sorted( set(df['weeks'])))}\n",
        "    xrev = {i:x for i,x in enumerate(sorted( set(df['weeks'])))}\n",
        "    xlabs = dict(zip(df['weeks'], df['age']))\n",
        "    \n",
        "    df['xpos'] = df['weeks'].map(xlabs)\n",
        "    sns.lineplot(\n",
        "        data = df,\n",
        "        x = 'xpos',\n",
        "        y = 'norm_lowess',\n",
        "        ax = ax,\n",
        "        label = label,\n",
        "        color = color,\n",
        "        zorder = zorder,\n",
        "    )\n",
        "    ax.fill_between(\n",
        "        df['xpos'],\n",
        "        df['norm_lowess'] - 1.96*df['norm_lowess_stderr'],\n",
        "        df['norm_lowess'] + 1.96*df['norm_lowess_stderr'],\n",
        "        alpha = 0.3,\n",
        "        color = color,\n",
        "        zorder = zorder,\n",
        "    )\n",
        "    xticks = [x for x in range(0, 35, 5)]\n",
        "    xticklabels = [ xlabs[xrev[x]] for x in xticks]\n",
        "    ax.set_xticks(xticks)\n",
        "    ax.set_xticklabels(xticklabels)\n",
        "    return ax\n",
        "\n",
        "# sns.set_style(\"whitegrid\")\n",
        "f, ax = plt.subplots(1,1)\n",
        "\n",
        "# ax = plot_lowess(dnm_df, ax, 'mediumaquamarine', 'DNM Genes', 30)\n",
        "# ax = plot_lowess(inh_df, ax, 'coral', 'Inherited Genes', 29)\n",
        "ax = plot_lowess(tada_df, ax, 'mediumaquamarine', 'TADA Genes', 29)\n",
        "ax = plot_lowess(gwas_df, ax, 'blue', 'GWAS Genes', 28)\n",
        "\n",
        "ymin, ymax = ax.set_ylim()\n",
        "\n",
        "ax.vlines(x = 12.5, ymin = ymin, ymax = ymax, color = 'k', linestyle = ':')\n",
        "ax.set_xlabel('')\n",
        "ax.set_ylabel('Normalized expression')\n",
        "f.tight_layout()\n",
        "f.savefig('lowess_expression.png')\n",
        "f.savefig('lowess_expression.svg')\n",
        "f.savefig('lowess_expression.pdf')"
      ],
      "execution_count": null,
      "outputs": [
        {
          "output_type": "error",
          "ename": "ValueError",
          "evalue": "ignored",
          "traceback": [
            "\u001b[0;31m---------------------------------------------------------------------------\u001b[0m",
            "\u001b[0;31mValueError\u001b[0m                                Traceback (most recent call last)",
            "\u001b[0;32m<ipython-input-185-5700d4bb3771>\u001b[0m in \u001b[0;36m<module>\u001b[0;34m()\u001b[0m\n\u001b[1;32m     34\u001b[0m \u001b[0;31m# ax = plot_lowess(inh_df, ax, 'coral', 'Inherited Genes', 29)\u001b[0m\u001b[0;34m\u001b[0m\u001b[0;34m\u001b[0m\u001b[0;34m\u001b[0m\u001b[0m\n\u001b[1;32m     35\u001b[0m \u001b[0max\u001b[0m \u001b[0;34m=\u001b[0m \u001b[0mplot_lowess\u001b[0m\u001b[0;34m(\u001b[0m\u001b[0mtada_df\u001b[0m\u001b[0;34m,\u001b[0m \u001b[0max\u001b[0m\u001b[0;34m,\u001b[0m \u001b[0;34m'mediumaquamarine'\u001b[0m\u001b[0;34m,\u001b[0m \u001b[0;34m'TADA Genes'\u001b[0m\u001b[0;34m,\u001b[0m \u001b[0;36m29\u001b[0m\u001b[0;34m)\u001b[0m\u001b[0;34m\u001b[0m\u001b[0;34m\u001b[0m\u001b[0m\n\u001b[0;32m---> 36\u001b[0;31m \u001b[0max\u001b[0m \u001b[0;34m=\u001b[0m \u001b[0mplot_lowess\u001b[0m\u001b[0;34m(\u001b[0m\u001b[0mgwas_df\u001b[0m\u001b[0;34m,\u001b[0m \u001b[0max\u001b[0m\u001b[0;34m,\u001b[0m \u001b[0;34m'blue'\u001b[0m\u001b[0;34m,\u001b[0m \u001b[0;34m'GWAS Genes'\u001b[0m\u001b[0;34m,\u001b[0m \u001b[0;36m28\u001b[0m\u001b[0;34m)\u001b[0m\u001b[0;34m\u001b[0m\u001b[0;34m\u001b[0m\u001b[0m\n\u001b[0m\u001b[1;32m     37\u001b[0m \u001b[0;34m\u001b[0m\u001b[0m\n\u001b[1;32m     38\u001b[0m \u001b[0mymin\u001b[0m\u001b[0;34m,\u001b[0m \u001b[0mymax\u001b[0m \u001b[0;34m=\u001b[0m \u001b[0max\u001b[0m\u001b[0;34m.\u001b[0m\u001b[0mset_ylim\u001b[0m\u001b[0;34m(\u001b[0m\u001b[0;34m)\u001b[0m\u001b[0;34m\u001b[0m\u001b[0;34m\u001b[0m\u001b[0m\n",
            "\u001b[0;32m<ipython-input-185-5700d4bb3771>\u001b[0m in \u001b[0;36mplot_lowess\u001b[0;34m(df, ax, color, label, zorder)\u001b[0m\n\u001b[1;32m     12\u001b[0m         \u001b[0mlabel\u001b[0m \u001b[0;34m=\u001b[0m \u001b[0mlabel\u001b[0m\u001b[0;34m,\u001b[0m\u001b[0;34m\u001b[0m\u001b[0;34m\u001b[0m\u001b[0m\n\u001b[1;32m     13\u001b[0m         \u001b[0mcolor\u001b[0m \u001b[0;34m=\u001b[0m \u001b[0mcolor\u001b[0m\u001b[0;34m,\u001b[0m\u001b[0;34m\u001b[0m\u001b[0;34m\u001b[0m\u001b[0m\n\u001b[0;32m---> 14\u001b[0;31m         \u001b[0mzorder\u001b[0m \u001b[0;34m=\u001b[0m \u001b[0mzorder\u001b[0m\u001b[0;34m,\u001b[0m\u001b[0;34m\u001b[0m\u001b[0;34m\u001b[0m\u001b[0m\n\u001b[0m\u001b[1;32m     15\u001b[0m     )\n\u001b[1;32m     16\u001b[0m     ax.fill_between(\n",
            "\u001b[0;32m/usr/local/lib/python3.7/dist-packages/seaborn/_decorators.py\u001b[0m in \u001b[0;36minner_f\u001b[0;34m(*args, **kwargs)\u001b[0m\n\u001b[1;32m     44\u001b[0m             )\n\u001b[1;32m     45\u001b[0m         \u001b[0mkwargs\u001b[0m\u001b[0;34m.\u001b[0m\u001b[0mupdate\u001b[0m\u001b[0;34m(\u001b[0m\u001b[0;34m{\u001b[0m\u001b[0mk\u001b[0m\u001b[0;34m:\u001b[0m \u001b[0marg\u001b[0m \u001b[0;32mfor\u001b[0m \u001b[0mk\u001b[0m\u001b[0;34m,\u001b[0m \u001b[0marg\u001b[0m \u001b[0;32min\u001b[0m \u001b[0mzip\u001b[0m\u001b[0;34m(\u001b[0m\u001b[0msig\u001b[0m\u001b[0;34m.\u001b[0m\u001b[0mparameters\u001b[0m\u001b[0;34m,\u001b[0m \u001b[0margs\u001b[0m\u001b[0;34m)\u001b[0m\u001b[0;34m}\u001b[0m\u001b[0;34m)\u001b[0m\u001b[0;34m\u001b[0m\u001b[0;34m\u001b[0m\u001b[0m\n\u001b[0;32m---> 46\u001b[0;31m         \u001b[0;32mreturn\u001b[0m \u001b[0mf\u001b[0m\u001b[0;34m(\u001b[0m\u001b[0;34m**\u001b[0m\u001b[0mkwargs\u001b[0m\u001b[0;34m)\u001b[0m\u001b[0;34m\u001b[0m\u001b[0;34m\u001b[0m\u001b[0m\n\u001b[0m\u001b[1;32m     47\u001b[0m     \u001b[0;32mreturn\u001b[0m \u001b[0minner_f\u001b[0m\u001b[0;34m\u001b[0m\u001b[0;34m\u001b[0m\u001b[0m\n\u001b[1;32m     48\u001b[0m \u001b[0;34m\u001b[0m\u001b[0m\n",
            "\u001b[0;32m/usr/local/lib/python3.7/dist-packages/seaborn/relational.py\u001b[0m in \u001b[0;36mlineplot\u001b[0;34m(x, y, hue, size, style, data, palette, hue_order, hue_norm, sizes, size_order, size_norm, dashes, markers, style_order, units, estimator, ci, n_boot, seed, sort, err_style, err_kws, legend, ax, **kwargs)\u001b[0m\n\u001b[1;32m    686\u001b[0m         \u001b[0mdata\u001b[0m\u001b[0;34m=\u001b[0m\u001b[0mdata\u001b[0m\u001b[0;34m,\u001b[0m \u001b[0mvariables\u001b[0m\u001b[0;34m=\u001b[0m\u001b[0mvariables\u001b[0m\u001b[0;34m,\u001b[0m\u001b[0;34m\u001b[0m\u001b[0;34m\u001b[0m\u001b[0m\n\u001b[1;32m    687\u001b[0m         \u001b[0mestimator\u001b[0m\u001b[0;34m=\u001b[0m\u001b[0mestimator\u001b[0m\u001b[0;34m,\u001b[0m \u001b[0mci\u001b[0m\u001b[0;34m=\u001b[0m\u001b[0mci\u001b[0m\u001b[0;34m,\u001b[0m \u001b[0mn_boot\u001b[0m\u001b[0;34m=\u001b[0m\u001b[0mn_boot\u001b[0m\u001b[0;34m,\u001b[0m \u001b[0mseed\u001b[0m\u001b[0;34m=\u001b[0m\u001b[0mseed\u001b[0m\u001b[0;34m,\u001b[0m\u001b[0;34m\u001b[0m\u001b[0;34m\u001b[0m\u001b[0m\n\u001b[0;32m--> 688\u001b[0;31m         \u001b[0msort\u001b[0m\u001b[0;34m=\u001b[0m\u001b[0msort\u001b[0m\u001b[0;34m,\u001b[0m \u001b[0merr_style\u001b[0m\u001b[0;34m=\u001b[0m\u001b[0merr_style\u001b[0m\u001b[0;34m,\u001b[0m \u001b[0merr_kws\u001b[0m\u001b[0;34m=\u001b[0m\u001b[0merr_kws\u001b[0m\u001b[0;34m,\u001b[0m \u001b[0mlegend\u001b[0m\u001b[0;34m=\u001b[0m\u001b[0mlegend\u001b[0m\u001b[0;34m,\u001b[0m\u001b[0;34m\u001b[0m\u001b[0;34m\u001b[0m\u001b[0m\n\u001b[0m\u001b[1;32m    689\u001b[0m     )\n\u001b[1;32m    690\u001b[0m \u001b[0;34m\u001b[0m\u001b[0m\n",
            "\u001b[0;32m/usr/local/lib/python3.7/dist-packages/seaborn/relational.py\u001b[0m in \u001b[0;36m__init__\u001b[0;34m(self, data, variables, estimator, ci, n_boot, seed, sort, err_style, err_kws, legend)\u001b[0m\n\u001b[1;32m    365\u001b[0m         )\n\u001b[1;32m    366\u001b[0m \u001b[0;34m\u001b[0m\u001b[0m\n\u001b[0;32m--> 367\u001b[0;31m         \u001b[0msuper\u001b[0m\u001b[0;34m(\u001b[0m\u001b[0;34m)\u001b[0m\u001b[0;34m.\u001b[0m\u001b[0m__init__\u001b[0m\u001b[0;34m(\u001b[0m\u001b[0mdata\u001b[0m\u001b[0;34m=\u001b[0m\u001b[0mdata\u001b[0m\u001b[0;34m,\u001b[0m \u001b[0mvariables\u001b[0m\u001b[0;34m=\u001b[0m\u001b[0mvariables\u001b[0m\u001b[0;34m)\u001b[0m\u001b[0;34m\u001b[0m\u001b[0;34m\u001b[0m\u001b[0m\n\u001b[0m\u001b[1;32m    368\u001b[0m \u001b[0;34m\u001b[0m\u001b[0m\n\u001b[1;32m    369\u001b[0m         \u001b[0mself\u001b[0m\u001b[0;34m.\u001b[0m\u001b[0mestimator\u001b[0m \u001b[0;34m=\u001b[0m \u001b[0mestimator\u001b[0m\u001b[0;34m\u001b[0m\u001b[0;34m\u001b[0m\u001b[0m\n",
            "\u001b[0;32m/usr/local/lib/python3.7/dist-packages/seaborn/_core.py\u001b[0m in \u001b[0;36m__init__\u001b[0;34m(self, data, variables)\u001b[0m\n\u001b[1;32m    602\u001b[0m     \u001b[0;32mdef\u001b[0m \u001b[0m__init__\u001b[0m\u001b[0;34m(\u001b[0m\u001b[0mself\u001b[0m\u001b[0;34m,\u001b[0m \u001b[0mdata\u001b[0m\u001b[0;34m=\u001b[0m\u001b[0;32mNone\u001b[0m\u001b[0;34m,\u001b[0m \u001b[0mvariables\u001b[0m\u001b[0;34m=\u001b[0m\u001b[0;34m{\u001b[0m\u001b[0;34m}\u001b[0m\u001b[0;34m)\u001b[0m\u001b[0;34m:\u001b[0m\u001b[0;34m\u001b[0m\u001b[0;34m\u001b[0m\u001b[0m\n\u001b[1;32m    603\u001b[0m \u001b[0;34m\u001b[0m\u001b[0m\n\u001b[0;32m--> 604\u001b[0;31m         \u001b[0mself\u001b[0m\u001b[0;34m.\u001b[0m\u001b[0massign_variables\u001b[0m\u001b[0;34m(\u001b[0m\u001b[0mdata\u001b[0m\u001b[0;34m,\u001b[0m \u001b[0mvariables\u001b[0m\u001b[0;34m)\u001b[0m\u001b[0;34m\u001b[0m\u001b[0;34m\u001b[0m\u001b[0m\n\u001b[0m\u001b[1;32m    605\u001b[0m \u001b[0;34m\u001b[0m\u001b[0m\n\u001b[1;32m    606\u001b[0m         \u001b[0;32mfor\u001b[0m \u001b[0mvar\u001b[0m\u001b[0;34m,\u001b[0m \u001b[0mcls\u001b[0m \u001b[0;32min\u001b[0m \u001b[0mself\u001b[0m\u001b[0;34m.\u001b[0m\u001b[0m_semantic_mappings\u001b[0m\u001b[0;34m.\u001b[0m\u001b[0mitems\u001b[0m\u001b[0;34m(\u001b[0m\u001b[0;34m)\u001b[0m\u001b[0;34m:\u001b[0m\u001b[0;34m\u001b[0m\u001b[0;34m\u001b[0m\u001b[0m\n",
            "\u001b[0;32m/usr/local/lib/python3.7/dist-packages/seaborn/_core.py\u001b[0m in \u001b[0;36massign_variables\u001b[0;34m(self, data, variables)\u001b[0m\n\u001b[1;32m    666\u001b[0m             \u001b[0mself\u001b[0m\u001b[0;34m.\u001b[0m\u001b[0minput_format\u001b[0m \u001b[0;34m=\u001b[0m \u001b[0;34m\"long\"\u001b[0m\u001b[0;34m\u001b[0m\u001b[0;34m\u001b[0m\u001b[0m\n\u001b[1;32m    667\u001b[0m             plot_data, variables = self._assign_variables_longform(\n\u001b[0;32m--> 668\u001b[0;31m                 \u001b[0mdata\u001b[0m\u001b[0;34m,\u001b[0m \u001b[0;34m**\u001b[0m\u001b[0mvariables\u001b[0m\u001b[0;34m,\u001b[0m\u001b[0;34m\u001b[0m\u001b[0;34m\u001b[0m\u001b[0m\n\u001b[0m\u001b[1;32m    669\u001b[0m             )\n\u001b[1;32m    670\u001b[0m \u001b[0;34m\u001b[0m\u001b[0m\n",
            "\u001b[0;32m/usr/local/lib/python3.7/dist-packages/seaborn/_core.py\u001b[0m in \u001b[0;36m_assign_variables_longform\u001b[0;34m(self, data, **kwargs)\u001b[0m\n\u001b[1;32m    900\u001b[0m \u001b[0;34m\u001b[0m\u001b[0m\n\u001b[1;32m    901\u001b[0m                 \u001b[0merr\u001b[0m \u001b[0;34m=\u001b[0m \u001b[0;34mf\"Could not interpret value `{val}` for parameter `{key}`\"\u001b[0m\u001b[0;34m\u001b[0m\u001b[0;34m\u001b[0m\u001b[0m\n\u001b[0;32m--> 902\u001b[0;31m                 \u001b[0;32mraise\u001b[0m \u001b[0mValueError\u001b[0m\u001b[0;34m(\u001b[0m\u001b[0merr\u001b[0m\u001b[0;34m)\u001b[0m\u001b[0;34m\u001b[0m\u001b[0;34m\u001b[0m\u001b[0m\n\u001b[0m\u001b[1;32m    903\u001b[0m \u001b[0;34m\u001b[0m\u001b[0m\n\u001b[1;32m    904\u001b[0m             \u001b[0;32melse\u001b[0m\u001b[0;34m:\u001b[0m\u001b[0;34m\u001b[0m\u001b[0;34m\u001b[0m\u001b[0m\n",
            "\u001b[0;31mValueError\u001b[0m: Could not interpret value `norm_lowess` for parameter `y`"
          ]
        },
        {
          "output_type": "display_data",
          "data": {
            "image/png": "[encoded data removed]",
            "text/plain": [
              "<Figure size 432x288 with 1 Axes>"
            ]
          },
          "metadata": {
            "needs_background": "light"
          }
        }
      ]
    },
    {
      "cell_type": "code",
      "metadata": {
        "id": "u1PpJ50263l3"
      },
      "source": [
        "dnm_df_test = dnm_df[[\"norm_lowess\", \"norm_lowess_stderr\",\n",
        "        \"age\", \"prenatal\", \"weeks\", \"years\",\n",
        "        ]]\n",
        "inh_df_test = inh_df[[\"norm_lowess\", \"norm_lowess_stderr\",\n",
        "        \"age\", \"prenatal\", \"weeks\", \"years\",\n",
        "        ]]\n",
        "gwas_df_test = gwas_df[[\"norm_lowess\", \"norm_lowess_stderr\",\n",
        "        \"age\", \"prenatal\", \"weeks\", \"years\",\n",
        "        ]]\n",
        "\n",
        "\n",
        "dnm_df_test = dnm_df_test.drop_duplicates().reset_index(drop = True)\n",
        "inh_df_test = inh_df_test.drop_duplicates().reset_index(drop = True)\n",
        "gwas_df_test = gwas_df_test.drop_duplicates().reset_index(drop = True)\n",
        "\n",
        "dnm_df_test['index'] = dnm_df_test.index\n",
        "inh_df_test['index'] = inh_df_test.index\n",
        "gwas_df_test['index'] = gwas_df_test.index\n",
        "\n",
        "\n",
        "f, ax = plt.subplots(1,1)\n",
        "\n",
        "sns.lineplot(\n",
        "    data = dnm_df_test,\n",
        "    x = 'index',\n",
        "    y = 'norm_lowess',\n",
        "    ax = ax,\n",
        "    label = \"DNM Genes\",\n",
        "    color = \"mediumaquamarine\",\n",
        "    zorder = 30,\n",
        "    )\n",
        "ax.fill_between(\n",
        "    dnm_df_test['index'],\n",
        "    dnm_df_test['norm_lowess'] - 1.96*dnm_df_test['norm_lowess_stderr'],\n",
        "    dnm_df_test['norm_lowess'] + 1.96*dnm_df_test['norm_lowess_stderr'],\n",
        "    alpha = 0.3,\n",
        "    color = \"mediumaquamarine\",\n",
        "    zorder = 30,\n",
        "    )\n",
        "\n",
        "\n",
        "sns.lineplot(\n",
        "    data = inh_df_test,\n",
        "    x = 'index',\n",
        "    y = 'norm_lowess',\n",
        "    ax = ax,\n",
        "    label = \"Inherited Genes\",\n",
        "    color = \"coral\",\n",
        "    zorder = 29,\n",
        "    )\n",
        "ax.fill_between(\n",
        "    inh_df_test['index'],\n",
        "    inh_df_test['norm_lowess'] - 1.96*inh_df_test['norm_lowess_stderr'],\n",
        "    inh_df_test['norm_lowess'] + 1.96*inh_df_test['norm_lowess_stderr'],\n",
        "    alpha = 0.3,\n",
        "    color = \"coral\",\n",
        "    zorder = 29,\n",
        "    )\n",
        "\n",
        "sns.lineplot(\n",
        "    data = gwas_df_test,\n",
        "    x = 'index',\n",
        "    y = 'norm_lowess',\n",
        "    ax = ax,\n",
        "    label = \"Polygenic Genes\",\n",
        "    color = \"k\",\n",
        "    zorder = 28,\n",
        "    )\n",
        "ax.fill_between(\n",
        "    gwas_df_test['index'],\n",
        "    gwas_df_test['norm_lowess'] - 1.96*gwas_df_test['norm_lowess_stderr'],\n",
        "    gwas_df_test['norm_lowess'] + 1.96*gwas_df_test['norm_lowess_stderr'],\n",
        "    alpha = 0.3,\n",
        "    color = \"k\",\n",
        "    zorder = 28,\n",
        "    )\n",
        "\n"
      ],
      "execution_count": null,
      "outputs": []
    }
  ]
}