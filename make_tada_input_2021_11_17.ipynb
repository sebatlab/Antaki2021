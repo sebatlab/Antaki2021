{
  "nbformat": 4,
  "nbformat_minor": 0,
  "metadata": {
    "colab": {
      "name": "make_tada_input_2021_11_17.ipynb",
      "provenance": [],
      "authorship_tag": "ABX9TyMPenqm1tdOM16kebdrYvTN",
      "include_colab_link": true
    },
    "kernelspec": {
      "name": "python3",
      "display_name": "Python 3"
    },
    "language_info": {
      "name": "python"
    }
  },
  "cells": [
    {
      "cell_type": "markdown",
      "metadata": {
        "id": "view-in-github",
        "colab_type": "text"
      },
      "source": [
        "<a href=\"https://colab.research.google.com/github/sebatlab/Antaki2021/blob/main/make_tada_input_2021_11_17.ipynb\" target=\"_parent\"><img src=\"https://colab.research.google.com/assets/colab-badge.svg\" alt=\"Open In Colab\"/></a>"
      ]
    },
    {
      "cell_type": "code",
      "metadata": {
        "id": "pOiWne383eud"
      },
      "source": [
        "import pandas as pd\n",
        "import numpy as np\n",
        "import matplotlib.pyplot as plt\n",
        "import seaborn as sns"
      ],
      "execution_count": 3,
      "outputs": []
    },
    {
      "cell_type": "code",
      "metadata": {
        "colab": {
          "base_uri": "https://localhost:8080/"
        },
        "id": "5KWYKdTZOlXW",
        "outputId": "beada358-9650-4e0c-fd48-9e7a5211b129"
      },
      "source": [
        "from google.colab import drive\n",
        "drive.mount('/content/drive')"
      ],
      "execution_count": 4,
      "outputs": [
        {
          "output_type": "stream",
          "name": "stdout",
          "text": [
            "Mounted at /content/drive\n"
          ]
        }
      ]
    },
    {
      "cell_type": "code",
      "metadata": {
        "id": "O0153E7r4aU9"
      },
      "source": [
        "# De Novo SNV/INDEL\n",
        "# df_dnm = pd.read_csv(\"/content/dn_snv_indel.2021_11_17.tsv\", sep = \"\\t\") # 14993 rows × 16 columns\n",
        "df_dnm = pd.read_csv(\"/content/drive/My Drive/antaki2021_manuscript/brainspan/dn_snv_indel.2021_11_17.tsv\", sep = \"\\t\").drop_duplicates() # 14993 rows × 16 columns\n",
        "\n",
        "# LOF Counts\n",
        "df_dnm_lof = df_dnm[(df_dnm[\"phenotype\"] == \"ASD\") & (df_dnm[\"loss_of_function\"] == 1)][[\"gene\", \"loss_of_function\"]].reset_index(drop = True)\n",
        "df_dnm_lof_count = df_dnm_lof.groupby([\"gene\"], as_index = False).count()\n",
        "\n",
        "# MIS Counts\n",
        "df_dnm_mis = df_dnm[(df_dnm[\"phenotype\"] == \"ASD\") & (df_dnm[\"missense\"] == 1)][[\"gene\", \"missense\"]].reset_index(drop = True)\n",
        "df_dnm_mis_count = df_dnm_mis.groupby([\"gene\"], as_index = False).count()"
      ],
      "execution_count": 7,
      "outputs": []
    },
    {
      "cell_type": "code",
      "metadata": {
        "colab": {
          "base_uri": "https://localhost:8080/"
        },
        "id": "i1GCQU7gp7Nx",
        "outputId": "43ab2513-fafd-4004-d2fa-cadf7d62cf02"
      },
      "source": [
        "# Private, inherited SNV/INDEL\n",
        "# df_inh = pd.read_csv(\"/content/drive/My Drive/antaki2021_manuscript/brainspan/reach.spark.ssc.combined.private.inherited.lof.mis.txt\", sep = \"\\t\") # 1069029 rows × 17 columns\n",
        "df_inh = pd.read_csv(\"/content/drive/My Drive/antaki2021_manuscript/brainspan/reach.spark.ssc.combined.private.inherited.lof.mis.txt\", sep = \"\\t\").drop_duplicates()\n",
        "df_inh[\"t_asd\"] = df_inh[\"aff_pt\"] + df_inh[\"aff_mt\"]\n",
        "df_inh[\"nt_asd\"] = df_inh[\"aff_pn\"] + df_inh[\"aff_mn\"]\n",
        "\n",
        "# LOF Counts\n",
        "df_inh_lof = df_inh[df_inh[\"lof\"] == 1][[\"gene\", \"lof\", \"t_asd\", \"nt_asd\"]].reset_index(drop = True)\n",
        "df_inh_lof_sum = df_inh_lof.groupby([\"gene\"], as_index = False)[\"t_asd\", \"nt_asd\"].sum()\n",
        "\n",
        "# MIS Counts\n",
        "df_inh_mis = df_inh[df_inh[\"mis\"] == 1][[\"gene\", \"mis\", \"t_asd\", \"nt_asd\"]].reset_index(drop = True)\n",
        "df_inh_mis_sum = df_inh_mis.groupby([\"gene\"], as_index = False)[\"t_asd\", \"nt_asd\"].sum()"
      ],
      "execution_count": 13,
      "outputs": [
        {
          "output_type": "stream",
          "name": "stderr",
          "text": [
            "/usr/local/lib/python3.7/dist-packages/ipykernel_launcher.py:8: FutureWarning: Indexing with multiple keys (implicitly converted to a tuple of keys) will be deprecated, use a list instead.\n",
            "  \n",
            "/usr/local/lib/python3.7/dist-packages/ipykernel_launcher.py:12: FutureWarning: Indexing with multiple keys (implicitly converted to a tuple of keys) will be deprecated, use a list instead.\n",
            "  if sys.path[0] == '':\n"
          ]
        }
      ]
    },
    {
      "cell_type": "code",
      "metadata": {
        "colab": {
          "base_uri": "https://localhost:8080/",
          "height": 444
        },
        "id": "WYOEAT5AmFDR",
        "outputId": "33a63d60-0c2b-46e2-e96b-422f683c7484"
      },
      "source": [
        "tada_lof_col = {\n",
        "    'gene':'gene.id',\n",
        "    'loss_of_function' : 'dn.cls1',\n",
        "    't_asd': 'trans.cls1',\n",
        "    'nt_asd': 'ntrans.cls1'\n",
        "}\n",
        "\n",
        "tada_mis_col = {\n",
        "    'gene':'gene.id',\n",
        "    'missense' : 'dn.cls2',\n",
        "    't_asd': 'trans.cls2',\n",
        "    'nt_asd': 'ntrans.cls2'\n",
        "}\n",
        "\n",
        "df_tada_lof = df_dnm_lof_count.merge(df_inh_lof_sum, on = \"gene\", how = \"outer\").fillna(0).rename(columns = tada_lof_col)\n",
        "df_tada_mis = df_dnm_mis_count.merge(df_inh_mis_sum, on = \"gene\", how = \"outer\").fillna(0).rename(columns = tada_mis_col)\n",
        "df_tada = df_tada_lof.merge(df_tada_mis, on = \"gene.id\", how = \"outer\").fillna(0)\n",
        "df_tada"
      ],
      "execution_count": 14,
      "outputs": [
        {
          "output_type": "execute_result",
          "data": {
            "text/html": [
              "<div>\n",
              "<style scoped>\n",
              "    .dataframe tbody tr th:only-of-type {\n",
              "        vertical-align: middle;\n",
              "    }\n",
              "\n",
              "    .dataframe tbody tr th {\n",
              "        vertical-align: top;\n",
              "    }\n",
              "\n",
              "    .dataframe thead th {\n",
              "        text-align: right;\n",
              "    }\n",
              "</style>\n",
              "<table border=\"1\" class=\"dataframe\">\n",
              "  <thead>\n",
              "    <tr style=\"text-align: right;\">\n",
              "      <th></th>\n",
              "      <th>gene.id</th>\n",
              "      <th>dn.cls1</th>\n",
              "      <th>trans.cls1</th>\n",
              "      <th>ntrans.cls1</th>\n",
              "      <th>dn.cls2</th>\n",
              "      <th>trans.cls2</th>\n",
              "      <th>ntrans.cls2</th>\n",
              "    </tr>\n",
              "  </thead>\n",
              "  <tbody>\n",
              "    <tr>\n",
              "      <th>0</th>\n",
              "      <td>AAAS</td>\n",
              "      <td>2.0</td>\n",
              "      <td>6.0</td>\n",
              "      <td>10.0</td>\n",
              "      <td>0.0</td>\n",
              "      <td>33.0</td>\n",
              "      <td>45.0</td>\n",
              "    </tr>\n",
              "    <tr>\n",
              "      <th>1</th>\n",
              "      <td>AADACL4</td>\n",
              "      <td>1.0</td>\n",
              "      <td>4.0</td>\n",
              "      <td>4.0</td>\n",
              "      <td>0.0</td>\n",
              "      <td>27.0</td>\n",
              "      <td>32.0</td>\n",
              "    </tr>\n",
              "    <tr>\n",
              "      <th>2</th>\n",
              "      <td>AASDH</td>\n",
              "      <td>1.0</td>\n",
              "      <td>12.0</td>\n",
              "      <td>10.0</td>\n",
              "      <td>0.0</td>\n",
              "      <td>65.0</td>\n",
              "      <td>55.0</td>\n",
              "    </tr>\n",
              "    <tr>\n",
              "      <th>3</th>\n",
              "      <td>ABCA5</td>\n",
              "      <td>1.0</td>\n",
              "      <td>12.0</td>\n",
              "      <td>19.0</td>\n",
              "      <td>1.0</td>\n",
              "      <td>106.0</td>\n",
              "      <td>97.0</td>\n",
              "    </tr>\n",
              "    <tr>\n",
              "      <th>4</th>\n",
              "      <td>ABCC5</td>\n",
              "      <td>1.0</td>\n",
              "      <td>5.0</td>\n",
              "      <td>9.0</td>\n",
              "      <td>4.0</td>\n",
              "      <td>71.0</td>\n",
              "      <td>56.0</td>\n",
              "    </tr>\n",
              "    <tr>\n",
              "      <th>...</th>\n",
              "      <td>...</td>\n",
              "      <td>...</td>\n",
              "      <td>...</td>\n",
              "      <td>...</td>\n",
              "      <td>...</td>\n",
              "      <td>...</td>\n",
              "      <td>...</td>\n",
              "    </tr>\n",
              "    <tr>\n",
              "      <th>21355</th>\n",
              "      <td>ZNF83</td>\n",
              "      <td>0.0</td>\n",
              "      <td>0.0</td>\n",
              "      <td>0.0</td>\n",
              "      <td>0.0</td>\n",
              "      <td>35.0</td>\n",
              "      <td>37.0</td>\n",
              "    </tr>\n",
              "    <tr>\n",
              "      <th>21356</th>\n",
              "      <td>ZNRD1</td>\n",
              "      <td>0.0</td>\n",
              "      <td>0.0</td>\n",
              "      <td>0.0</td>\n",
              "      <td>0.0</td>\n",
              "      <td>5.0</td>\n",
              "      <td>3.0</td>\n",
              "    </tr>\n",
              "    <tr>\n",
              "      <th>21357</th>\n",
              "      <td>ZPR1</td>\n",
              "      <td>0.0</td>\n",
              "      <td>0.0</td>\n",
              "      <td>0.0</td>\n",
              "      <td>0.0</td>\n",
              "      <td>18.0</td>\n",
              "      <td>31.0</td>\n",
              "    </tr>\n",
              "    <tr>\n",
              "      <th>21358</th>\n",
              "      <td>ZSCAN26,ZSCAN26,AL021997.3,AL021997.3</td>\n",
              "      <td>0.0</td>\n",
              "      <td>0.0</td>\n",
              "      <td>0.0</td>\n",
              "      <td>0.0</td>\n",
              "      <td>0.0</td>\n",
              "      <td>1.0</td>\n",
              "    </tr>\n",
              "    <tr>\n",
              "      <th>21359</th>\n",
              "      <td>ZUP1</td>\n",
              "      <td>0.0</td>\n",
              "      <td>0.0</td>\n",
              "      <td>0.0</td>\n",
              "      <td>0.0</td>\n",
              "      <td>30.0</td>\n",
              "      <td>31.0</td>\n",
              "    </tr>\n",
              "  </tbody>\n",
              "</table>\n",
              "<p>21360 rows × 7 columns</p>\n",
              "</div>"
            ],
            "text/plain": [
              "                                     gene.id  dn.cls1  ...  trans.cls2  ntrans.cls2\n",
              "0                                       AAAS      2.0  ...        33.0         45.0\n",
              "1                                    AADACL4      1.0  ...        27.0         32.0\n",
              "2                                      AASDH      1.0  ...        65.0         55.0\n",
              "3                                      ABCA5      1.0  ...       106.0         97.0\n",
              "4                                      ABCC5      1.0  ...        71.0         56.0\n",
              "...                                      ...      ...  ...         ...          ...\n",
              "21355                                  ZNF83      0.0  ...        35.0         37.0\n",
              "21356                                  ZNRD1      0.0  ...         5.0          3.0\n",
              "21357                                   ZPR1      0.0  ...        18.0         31.0\n",
              "21358  ZSCAN26,ZSCAN26,AL021997.3,AL021997.3      0.0  ...         0.0          1.0\n",
              "21359                                   ZUP1      0.0  ...        30.0         31.0\n",
              "\n",
              "[21360 rows x 7 columns]"
            ]
          },
          "metadata": {},
          "execution_count": 14
        }
      ]
    },
    {
      "cell_type": "code",
      "metadata": {
        "id": "HwdUHfOczGQj"
      },
      "source": [
        "df_mutation_rates = pd.read_csv(\"/content/drive/My Drive/antaki2021_manuscript/brainspan/samocha_mut_rates.txt\", sep = \"\\t\")\n",
        "df_mutation_rates[\"lof_rate\"] = 10**df_mutation_rates[\"lof\"]\n",
        "df_mutation_rates[\"mis_rate\"] = 10**df_mutation_rates[\"mis\"]"
      ],
      "execution_count": 15,
      "outputs": []
    },
    {
      "cell_type": "code",
      "metadata": {
        "id": "CS01uO7Bd3-e"
      },
      "source": [
        "df = df_tada.merge(df_mutation_rates, left_on='gene.id', right_on='gene', how='inner').rename(columns={'mis_rate':'mut.cls2','lof_rate':'mut.cls1'})\n",
        "\n",
        "final_col = [\n",
        "    'gene.id',\n",
        "    'mut.cls1',\n",
        "    'dn.cls1',\n",
        "    'trans.cls1',\n",
        "    'ntrans.cls1',\n",
        "    'mut.cls2',\n",
        "    'dn.cls2',\n",
        "    'trans.cls2',\n",
        "    'ntrans.cls2'\n",
        "]\n",
        "\n",
        "df = df[final_col]\n",
        "\n",
        "\n",
        "df[df['gene.id'] == 'SYNGAP1']\n",
        "\n",
        "df.to_csv(\"tada_table_2021_11_18.tsv\", sep = '\\t', index = False)"
      ],
      "execution_count": 16,
      "outputs": []
    },
    {
      "cell_type": "code",
      "metadata": {
        "id": "jM9kzZYGCSd4"
      },
      "source": [
        "# run this after running TADA to get the final results table (which we then merge with input table)\n",
        "df_in  = pd.read_csv(\"/content/tada_table_2021_11_18.tsv\", sep = \"\\t\")\n",
        "df_out = pd.read_csv(\"/content/tada_results_2021_11_18.tsv\", sep = \"\\t\")\n",
        "\n",
        "df_in = df_in.rename(columns = \n",
        "                     {\"gene.id\": \"gene\", \n",
        "                      \"dn.cls1\": \"dn_lof\",\n",
        "                      \"trans.cls1\": \"trans_lof\",\n",
        "                      \"ntrans.cls1\": \"ntrans_lof\",\n",
        "                      \"dn.cls2\": \"dn_mis\",\n",
        "                      \"trans.cls2\": \"trans_mis\",\n",
        "                      \"ntrans.cls2\": \"ntrans_mis\"})\n",
        "\n",
        "df_out = df_out.rename(columns = \n",
        "                       {\"BF.cls1\": \"bayes_factor_lof\",\n",
        "                        \"BF.cls2\": \"bayes_factor_mis\",\n",
        "                        \"BF.total\": \"bayes_factor\"\n",
        "                       })\n",
        "\n",
        "df_in = df_in[[\"gene\", \n",
        "               \"dn_lof\", \"trans_lof\", \"ntrans_lof\",\n",
        "               \"dn_mis\", \"trans_mis\", \"ntrans_mis\"]]\n",
        "\n",
        "# df_in # 16729 rows × 7 columns\n",
        "# df_out # 16729 rows × 5 columns\n",
        "\n",
        "df_tada_inputs_and_outputs = df_in.merge(df_out, on = \"gene\")\n",
        "# df_tada_inputs_and_outputs # 16729 rows × 11 columns\n",
        "df_tada_inputs_and_outputs = df_tada_inputs_and_outputs.sort_values(by = 'qval', ascending = True).reset_index(drop = True)\n",
        "df_tada_inputs_and_outputs.to_csv(\"tada_input_and_results_2021_11_18.csv\", sep = '\\t', index = False)\n",
        "\n",
        "# TADA gene list is all genes with qval < 0.05\n",
        "df_tada_inputs_and_outputs_qval_filter = df_tada_inputs_and_outputs[df_tada_inputs_and_outputs[\"qval\"] < 0.05]\n",
        "df_tada_inputs_and_outputs_qval_filter.to_csv(\"tada_input_and_results_2021_11_18.qval_0.05_.csv\", sep = '\\t', index = False)\n"
      ],
      "execution_count": null,
      "outputs": []
    }
  ]
}